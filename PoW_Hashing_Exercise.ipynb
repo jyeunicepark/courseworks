{
  "nbformat": 4,
  "nbformat_minor": 0,
  "metadata": {
    "colab": {
      "name": "PoW Hashing Exercise",
      "provenance": [],
      "authorship_tag": "ABX9TyM67WOg9+WUpEN4SIDvwlf8",
      "include_colab_link": true
    },
    "kernelspec": {
      "name": "python3",
      "display_name": "Python 3"
    },
    "language_info": {
      "name": "python"
    }
  },
  "cells": [
    {
      "cell_type": "markdown",
      "metadata": {
        "id": "view-in-github",
        "colab_type": "text"
      },
      "source": [
        "<a href=\"https://colab.research.google.com/github/jyeunicepark/courseworks/blob/main/PoW_Hashing_Exercise.ipynb\" target=\"_parent\"><img src=\"https://colab.research.google.com/assets/colab-badge.svg\" alt=\"Open In Colab\"/></a>"
      ]
    },
    {
      "cell_type": "code",
      "source": [
        "#Spyder / Python IDE"
      ],
      "metadata": {
        "id": "FPvLZ553DMvn"
      },
      "execution_count": null,
      "outputs": []
    },
    {
      "cell_type": "markdown",
      "source": [
        "### Proof of Work Lab"
      ],
      "metadata": {
        "id": "Bfd8oVv4OArZ"
      }
    },
    {
      "cell_type": "code",
      "execution_count": null,
      "metadata": {
        "id": "g9S6B9hcC1YG"
      },
      "outputs": [],
      "source": [
        "import hashlib"
      ]
    },
    {
      "cell_type": "code",
      "source": [
        "import time"
      ],
      "metadata": {
        "id": "2QznUm_wKPCE"
      },
      "execution_count": null,
      "outputs": []
    },
    {
      "cell_type": "code",
      "source": [
        "raw_tx = 'A sent 0.1 BTC to B'\n",
        "\n",
        "prev_hash = '0000000000000000000bd5bcf0c5624fca73076368e0b24d7809bece093a1b24'\n",
        "target = '00001e33537627f7b914b3ea132fde1d1d28dc5cdc40bae92f5d1a7f1862df2b'\n",
        "\n",
        "input = raw_tx+prev_hash\n",
        "\n",
        "start_time = time.time()"
      ],
      "metadata": {
        "id": "y9u4R_55C55s"
      },
      "execution_count": null,
      "outputs": []
    },
    {
      "cell_type": "code",
      "source": [
        "def block_mining(input):\n",
        "  nonce = 0\n",
        "  while(True):\n",
        "  #for nonce in range(0, 10000):limitsli    combined_str = input+str(nonce)\n",
        "    h = hashlib.sha256(combined_str.encode()).hexdigest()\n",
        "    \n",
        "    if h < target:\n",
        "      print(\"Hash is %s and the nonce is %s\" %(h, nonce))\n",
        "      print(\"---%s seconds ---\" %(time.time() - start_time))\n",
        "      break\n",
        "    nonce += 1 #can comment this out if we use for loop"
      ],
      "metadata": {
        "id": "pgTMV7YlE2uc"
      },
      "execution_count": null,
      "outputs": []
    },
    {
      "cell_type": "code",
      "source": [
        "#alt\n",
        "\n",
        "def block_minin"
      ],
      "metadata": {
        "id": "A6gFbM5JMV9G"
      },
      "execution_count": null,
      "outputs": []
    },
    {
      "cell_type": "code",
      "source": [
        "block_mining(input)"
      ],
      "metadata": {
        "colab": {
          "base_uri": "https://localhost:8080/"
        },
        "id": "DCzuhRuSHAaB",
        "outputId": "cc72a73b-954c-435b-f9fb-22b63c548a93"
      },
      "execution_count": null,
      "outputs": [
        {
          "output_type": "stream",
          "name": "stdout",
          "text": [
            "Hash is 00000d028d2df8823f389ad5a4745438e6890895da339e1181b989f7e7624ed5 and the nonce is 12195\n",
            "---180.5733380317688 seconds ---\n"
          ]
        }
      ]
    }
  ]
}