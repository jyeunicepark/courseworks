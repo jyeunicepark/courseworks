{
 "cells": [
  {
   "cell_type": "markdown",
   "metadata": {
    "id": "lSkfGiwFLag8"
   },
   "source": [
    "## ISOM5160 Exercise 05 - Donald Trump's Tweets\n",
    "---\n",
    "This dataset contains Donald Trump's Twitter tweets from 16/7/2015 to 11/11/2016, extracted from [https://www.thetrumparchive.com/](https://www.thetrumparchive.com/).\n",
    "\n",
    "The dataset contains 7375 rows and 10 columns\n",
    "* ```Date``` - the date of the tweet\n",
    "* ```Time``` - the time of the tweet\n",
    "* ```Tweet_Text``` - the text content of the tweet\n",
    "* ```Type``` - the type of the tweet\n",
    "* ```Media_Type``` -  the type of media inside the tweet\n",
    "* ```Hashtags``` - the hashtags in the tweet\n",
    "* ```Tweet_Id``` the id of the tweet\n",
    "* ```Tweet_Url``` the url of the tweet\n",
    "* ```Tweet_Favoriates``` the number of likes for the tweet\n",
    "* ```Retweets``` the number of times the tweet has been re-tweeted \n",
    "\n"
   ]
  },
  {
   "cell_type": "markdown",
   "metadata": {
    "id": "BSNmE1ugLc17"
   },
   "source": [
    "#### Task 5.0: Imports packages and the data file"
   ]
  },
  {
   "cell_type": "code",
   "execution_count": 1,
   "metadata": {
    "id": "zrsIqLujDgDY"
   },
   "outputs": [
    {
     "name": "stderr",
     "output_type": "stream",
     "text": [
      "<ipython-input-1-23202b8c446b>:11: FutureWarning: Passing a negative integer is deprecated in version 1.0 and will not be supported in future version. Instead, use None to not limit the column width.\n",
      "  pd.options.display.max_colwidth = -1      # for Jupyter Notebook\n"
     ]
    }
   ],
   "source": [
    "import numpy as np\n",
    "import pandas as pd\n",
    "import matplotlib.pyplot as plt\n",
    "import string, re\n",
    "\n",
    "# To print multiple outputs for one cell\n",
    "from IPython.core.interactiveshell import InteractiveShell\n",
    "InteractiveShell.ast_node_interactivity = 'all'\n",
    "\n",
    "#pd.options.display.max_colwidth = None   # for Google Colab\n",
    "pd.options.display.max_colwidth = -1      # for Jupyter Notebook"
   ]
  },
  {
   "cell_type": "code",
   "execution_count": 2,
   "metadata": {
    "colab": {
     "base_uri": "https://localhost:8080/",
     "height": 972
    },
    "executionInfo": {
     "elapsed": 281,
     "status": "ok",
     "timestamp": 1633104782229,
     "user": {
      "displayName": "Jean Wang",
      "photoUrl": "https://lh3.googleusercontent.com/a/default-user=s64",
      "userId": "17121345554386367762"
     },
     "user_tz": -480
    },
    "id": "gG7w8qYIhfhi",
    "outputId": "15101252-7dd6-4275-8f15-e503f4b41043"
   },
   "outputs": [
    {
     "data": {
      "text/plain": [
       "(7375, 10)"
      ]
     },
     "execution_count": 2,
     "metadata": {},
     "output_type": "execute_result"
    },
    {
     "name": "stdout",
     "output_type": "stream",
     "text": [
      "<class 'pandas.core.frame.DataFrame'>\n",
      "RangeIndex: 7375 entries, 0 to 7374\n",
      "Data columns (total 10 columns):\n",
      " #   Column            Non-Null Count  Dtype  \n",
      "---  ------            --------------  -----  \n",
      " 0   Date              7375 non-null   object \n",
      " 1   Time              7375 non-null   object \n",
      " 2   Tweet_Text        7375 non-null   object \n",
      " 3   Type              7375 non-null   object \n",
      " 4   Media_Type        1225 non-null   object \n",
      " 5   Hashtags          2031 non-null   object \n",
      " 6   Tweet_Id          7375 non-null   float64\n",
      " 7   Tweet_Url         7375 non-null   object \n",
      " 8   Tweet_Favourites  7375 non-null   int64  \n",
      " 9   Retweets          7375 non-null   int64  \n",
      "dtypes: float64(1), int64(2), object(7)\n",
      "memory usage: 576.3+ KB\n"
     ]
    },
    {
     "data": {
      "text/html": [
       "<div>\n",
       "<style scoped>\n",
       "    .dataframe tbody tr th:only-of-type {\n",
       "        vertical-align: middle;\n",
       "    }\n",
       "\n",
       "    .dataframe tbody tr th {\n",
       "        vertical-align: top;\n",
       "    }\n",
       "\n",
       "    .dataframe thead th {\n",
       "        text-align: right;\n",
       "    }\n",
       "</style>\n",
       "<table border=\"1\" class=\"dataframe\">\n",
       "  <thead>\n",
       "    <tr style=\"text-align: right;\">\n",
       "      <th></th>\n",
       "      <th>Date</th>\n",
       "      <th>Time</th>\n",
       "      <th>Tweet_Text</th>\n",
       "      <th>Type</th>\n",
       "      <th>Media_Type</th>\n",
       "      <th>Hashtags</th>\n",
       "      <th>Tweet_Id</th>\n",
       "      <th>Tweet_Url</th>\n",
       "      <th>Tweet_Favourites</th>\n",
       "      <th>Retweets</th>\n",
       "    </tr>\n",
       "  </thead>\n",
       "  <tbody>\n",
       "    <tr>\n",
       "      <th>0</th>\n",
       "      <td>16-11-11</td>\n",
       "      <td>15:26:37</td>\n",
       "      <td>Today we express our deepest gratitude to all those who have served in our armed forces. #ThankAVet https://t.co/wPk7QWpK8Z</td>\n",
       "      <td>text</td>\n",
       "      <td>photo</td>\n",
       "      <td>ThankAVet</td>\n",
       "      <td>7.970000e+17</td>\n",
       "      <td>https://twitter.com/realDonaldTrump/status/797098212599496704</td>\n",
       "      <td>127213</td>\n",
       "      <td>41112</td>\n",
       "    </tr>\n",
       "    <tr>\n",
       "      <th>1</th>\n",
       "      <td>16-11-11</td>\n",
       "      <td>13:33:35</td>\n",
       "      <td>Busy day planned in New York. Will soon be making some very important decisions on the people who will be running our government!</td>\n",
       "      <td>text</td>\n",
       "      <td>NaN</td>\n",
       "      <td>NaN</td>\n",
       "      <td>7.970000e+17</td>\n",
       "      <td>https://twitter.com/realDonaldTrump/status/797069763801387008</td>\n",
       "      <td>141527</td>\n",
       "      <td>28654</td>\n",
       "    </tr>\n",
       "    <tr>\n",
       "      <th>2</th>\n",
       "      <td>16-11-11</td>\n",
       "      <td>11:14:20</td>\n",
       "      <td>Love the fact that the small groups of protesters last night have passion for our great country. We will all come together and be proud!</td>\n",
       "      <td>text</td>\n",
       "      <td>NaN</td>\n",
       "      <td>NaN</td>\n",
       "      <td>7.970000e+17</td>\n",
       "      <td>https://twitter.com/realDonaldTrump/status/797034721075228672</td>\n",
       "      <td>183729</td>\n",
       "      <td>50039</td>\n",
       "    </tr>\n",
       "    <tr>\n",
       "      <th>3</th>\n",
       "      <td>16-11-11</td>\n",
       "      <td>2:19:44</td>\n",
       "      <td>Just had a very open and successful presidential election. Now professional protesters, incited by the media, are protesting. Very unfair!</td>\n",
       "      <td>text</td>\n",
       "      <td>NaN</td>\n",
       "      <td>NaN</td>\n",
       "      <td>7.970000e+17</td>\n",
       "      <td>https://twitter.com/realDonaldTrump/status/796900183955095552</td>\n",
       "      <td>214001</td>\n",
       "      <td>67010</td>\n",
       "    </tr>\n",
       "    <tr>\n",
       "      <th>4</th>\n",
       "      <td>16-11-11</td>\n",
       "      <td>2:10:46</td>\n",
       "      <td>A fantastic day in D.C. Met with President Obama for first time. Really good meeting, great chemistry. Melania liked Mrs. O a lot!</td>\n",
       "      <td>text</td>\n",
       "      <td>NaN</td>\n",
       "      <td>NaN</td>\n",
       "      <td>7.970000e+17</td>\n",
       "      <td>https://twitter.com/realDonaldTrump/status/796897928048766976</td>\n",
       "      <td>178499</td>\n",
       "      <td>36688</td>\n",
       "    </tr>\n",
       "  </tbody>\n",
       "</table>\n",
       "</div>"
      ],
      "text/plain": [
       "       Date      Time  \\\n",
       "0  16-11-11  15:26:37   \n",
       "1  16-11-11  13:33:35   \n",
       "2  16-11-11  11:14:20   \n",
       "3  16-11-11  2:19:44    \n",
       "4  16-11-11  2:10:46    \n",
       "\n",
       "                                                                                                                                   Tweet_Text  \\\n",
       "0  Today we express our deepest gratitude to all those who have served in our armed forces. #ThankAVet https://t.co/wPk7QWpK8Z                  \n",
       "1  Busy day planned in New York. Will soon be making some very important decisions on the people who will be running our government!            \n",
       "2  Love the fact that the small groups of protesters last night have passion for our great country. We will all come together and be proud!     \n",
       "3  Just had a very open and successful presidential election. Now professional protesters, incited by the media, are protesting. Very unfair!   \n",
       "4  A fantastic day in D.C. Met with President Obama for first time. Really good meeting, great chemistry. Melania liked Mrs. O a lot!           \n",
       "\n",
       "   Type Media_Type   Hashtags      Tweet_Id  \\\n",
       "0  text  photo      ThankAVet  7.970000e+17   \n",
       "1  text  NaN        NaN        7.970000e+17   \n",
       "2  text  NaN        NaN        7.970000e+17   \n",
       "3  text  NaN        NaN        7.970000e+17   \n",
       "4  text  NaN        NaN        7.970000e+17   \n",
       "\n",
       "                                                       Tweet_Url  \\\n",
       "0  https://twitter.com/realDonaldTrump/status/797098212599496704   \n",
       "1  https://twitter.com/realDonaldTrump/status/797069763801387008   \n",
       "2  https://twitter.com/realDonaldTrump/status/797034721075228672   \n",
       "3  https://twitter.com/realDonaldTrump/status/796900183955095552   \n",
       "4  https://twitter.com/realDonaldTrump/status/796897928048766976   \n",
       "\n",
       "   Tweet_Favourites  Retweets  \n",
       "0  127213            41112     \n",
       "1  141527            28654     \n",
       "2  183729            50039     \n",
       "3  214001            67010     \n",
       "4  178499            36688     "
      ]
     },
     "execution_count": 2,
     "metadata": {},
     "output_type": "execute_result"
    },
    {
     "data": {
      "text/plain": [
       "0       Today we express our deepest gratitude to all those who have served in our armed forces. #ThankAVet https://t.co/wPk7QWpK8Z                 \n",
       "1       Busy day planned in New York. Will soon be making some very important decisions on the people who will be running our government!           \n",
       "2       Love the fact that the small groups of protesters last night have passion for our great country. We will all come together and be proud!    \n",
       "3       Just had a very open and successful presidential election. Now professional protesters, incited by the media, are protesting. Very unfair!  \n",
       "4       A fantastic day in D.C. Met with President Obama for first time. Really good meeting, great chemistry. Melania liked Mrs. O a lot!          \n",
       "                                                                       ...                                                                          \n",
       "7370    I loved firing goofball atheist Penn @pennjillette on The Apprentice. He never had a chance. Wrote letter to me begging for forgiveness.    \n",
       "7371    I hear @pennjillette show on Broadway is terrible. Not surprised, boring guy (Penn). Without The Apprentice,  show would have died long ago.\n",
       "7372    Irrelevant clown @KarlRove sweats and shakes nervously on @FoxNews as he talks \"bull\" about me. Has zero cred. Made fool of himself in 12.  \n",
       "7373    \"@HoustonWelder: Donald Trump is one of the sexiest men on this planet. Every woman dreams of a good man who tells it like it is.\" So true! \n",
       "7374    RT @marklevinshow: Trump: Rove is a clown and a loser http://t.co/jfDKiaTJeN                                                                \n",
       "Name: Tweet_Text, Length: 7375, dtype: object"
      ]
     },
     "execution_count": 2,
     "metadata": {},
     "output_type": "execute_result"
    }
   ],
   "source": [
    "tweets = pd.read_csv('trump_tweets.csv')\n",
    "\n",
    "tweets.shape\n",
    "tweets.info()\n",
    "tweets.head(5)\n",
    "\n",
    "tweets.Tweet_Text"
   ]
  },
  {
   "cell_type": "markdown",
   "metadata": {
    "id": "2Gf6HRN6sUoY"
   },
   "source": [
    "#### **Task 5.1:** Find all tweet texts containing both 'Mexico' and 'America' (match the exact and whole word)\n",
    "- Hint: use Regex patten *r'\\bMexico\\b'*"
   ]
  },
  {
   "cell_type": "code",
   "execution_count": 3,
   "metadata": {
    "colab": {
     "base_uri": "https://localhost:8080/"
    },
    "executionInfo": {
     "elapsed": 277,
     "status": "ok",
     "timestamp": 1633107041481,
     "user": {
      "displayName": "Jean Wang",
      "photoUrl": "https://lh3.googleusercontent.com/a/default-user=s64",
      "userId": "17121345554386367762"
     },
     "user_tz": -480
    },
    "id": "eU_BXjC-kl5K",
    "outputId": "34d9769d-e77f-43dd-9b63-91a64f68c9fd"
   },
   "outputs": [
    {
     "name": "stdout",
     "output_type": "stream",
     "text": [
      "3269 Now an additional 600-700 jobs in America (2,000) being eliminated for move to Mexico- via Hartford Courant. https://t.co/bOIYQLqGRG\n",
      "7020 \"@Foshay504: @greta DonaldTrump-Love him! Its time to run America like a business. Weve given all our wealth to China n Mexico!! No more!\n"
     ]
    }
   ],
   "source": [
    "pattern_mexico = r'\\bMexico\\b'\n",
    "pattern_america = r'\\bAmerica\\b'\n",
    "\n",
    "text_list = list(tweets[\"Tweet_Text\"])\n",
    "\n",
    "for i in range(len(text_list)):\n",
    "    if(re.findall(pattern_mexico, text_list[i]) and re.findall(pattern_america, text_list[i])):\n",
    "        print(i, text_list[i])"
   ]
  },
  {
   "cell_type": "markdown",
   "metadata": {
    "id": "LWhYMNGgeHv8"
   },
   "source": [
    "#### **Task 5.2:** Find out how many times the slogan “Make America Great Again” (with or without spaces, upper or lower cases) appear in the tweet text"
   ]
  },
  {
   "cell_type": "code",
   "execution_count": 5,
   "metadata": {
    "colab": {
     "base_uri": "https://localhost:8080/"
    },
    "executionInfo": {
     "elapsed": 260,
     "status": "ok",
     "timestamp": 1633107592666,
     "user": {
      "displayName": "Jean Wang",
      "photoUrl": "https://lh3.googleusercontent.com/a/default-user=s64",
      "userId": "17121345554386367762"
     },
     "user_tz": -480
    },
    "id": "XW1y9_Gzp_x_",
    "outputId": "fa412be2-0777-44bb-94a2-3752a438949c"
   },
   "outputs": [
    {
     "data": {
      "text/plain": [
       "724"
      ]
     },
     "execution_count": 5,
     "metadata": {},
     "output_type": "execute_result"
    },
    {
     "name": "stdout",
     "output_type": "stream",
     "text": [
      "This slogan appears 724 times.\n"
     ]
    }
   ],
   "source": [
    "maga = r'\\s*Make\\s*America\\s*Great\\s*Again\\s*'\n",
    "\n",
    "maga_count = 0\n",
    "\n",
    "for i in range(len(text_list)):\n",
    "    if(re.findall(maga, text_list[i], flags=re.IGNORECASE)):\n",
    "        maga_count += 1\n",
    "        \n",
    "maga_count\n",
    "\n",
    "print(\"This slogan appears %d times.\" % maga_count )"
   ]
  },
  {
   "cell_type": "markdown",
   "metadata": {
    "id": "_QKs5leXUdtv"
   },
   "source": [
    "#### **Task 5.3:** Find the tweet text with the most number of hashtags (i.e, sequence starting with #)"
   ]
  },
  {
   "cell_type": "code",
   "execution_count": 6,
   "metadata": {
    "id": "25Sew4GEqAfO"
   },
   "outputs": [
    {
     "name": "stdout",
     "output_type": "stream",
     "text": [
      "The tweet text with the most number of hashtags is: 10\n",
      "<bound method Series.dropna of 2720    RT @EricTrump: Friends in #FL #OH #NC #IL &amp; #MO we would be honored to have your #VOTE! #SuperTuesday #LetsDoThis #MakeAmericaGreatAgain #T_\n",
      "Name: Tweet_Text, dtype: object>\n"
     ]
    },
    {
     "name": "stderr",
     "output_type": "stream",
     "text": [
      "<ipython-input-6-b00ee7785b18>:1: UserWarning: Pandas doesn't allow columns to be created via a new attribute name - see https://pandas.pydata.org/pandas-docs/stable/indexing.html#attribute-access\n",
      "  tweets.Hashtag_Count = tweets['Tweet_Text'].str.count(\"#\")\n"
     ]
    }
   ],
   "source": [
    "tweets.Hashtag_Count = tweets['Tweet_Text'].str.count(\"#\")\n",
    "max_ht = max(tweets.Hashtag_Count)\n",
    "print('The tweet text with the most number of hashtags is: %s' % max_ht)\n",
    "\n",
    "top = tweets.Tweet_Text[tweets.Hashtag_Count == max_ht].dropna\n",
    "\n",
    "print(top)"
   ]
  },
  {
   "cell_type": "markdown",
   "metadata": {
    "id": "gA3l0PMWCf-a"
   },
   "source": [
    "#### **Task 5.4:** Find the top 10 frequent mentions in Trump's tweets (i.e., sequence starting with @)\n",
    "- Hint: use *pd.Series.explode().to_frame()* function to convert a nested list into a dataframe\n"
   ]
  },
  {
   "cell_type": "code",
   "execution_count": 7,
   "metadata": {
    "id": "hRtq0A8KqBou"
   },
   "outputs": [
    {
     "data": {
      "text/html": [
       "<div>\n",
       "<style scoped>\n",
       "    .dataframe tbody tr th:only-of-type {\n",
       "        vertical-align: middle;\n",
       "    }\n",
       "\n",
       "    .dataframe tbody tr th {\n",
       "        vertical-align: top;\n",
       "    }\n",
       "\n",
       "    .dataframe thead th {\n",
       "        text-align: right;\n",
       "    }\n",
       "</style>\n",
       "<table border=\"1\" class=\"dataframe\">\n",
       "  <thead>\n",
       "    <tr style=\"text-align: right;\">\n",
       "      <th></th>\n",
       "      <th>word</th>\n",
       "      <th>freq</th>\n",
       "    </tr>\n",
       "  </thead>\n",
       "  <tbody>\n",
       "    <tr>\n",
       "      <th>2437</th>\n",
       "      <td>@realDonaldTrump</td>\n",
       "      <td>1513</td>\n",
       "    </tr>\n",
       "    <tr>\n",
       "      <th>509</th>\n",
       "      <td>@FoxNews</td>\n",
       "      <td>272</td>\n",
       "    </tr>\n",
       "    <tr>\n",
       "      <th>242</th>\n",
       "      <td>@CNN</td>\n",
       "      <td>231</td>\n",
       "    </tr>\n",
       "    <tr>\n",
       "      <th>2289</th>\n",
       "      <td>@megynkelly</td>\n",
       "      <td>107</td>\n",
       "    </tr>\n",
       "    <tr>\n",
       "      <th>1960</th>\n",
       "      <td>@foxandfriends</td>\n",
       "      <td>100</td>\n",
       "    </tr>\n",
       "    <tr>\n",
       "      <th>365</th>\n",
       "      <td>@DanScavino</td>\n",
       "      <td>90</td>\n",
       "    </tr>\n",
       "    <tr>\n",
       "      <th>2523</th>\n",
       "      <td>@seanhannity</td>\n",
       "      <td>78</td>\n",
       "    </tr>\n",
       "    <tr>\n",
       "      <th>693</th>\n",
       "      <td>@JebBush</td>\n",
       "      <td>74</td>\n",
       "    </tr>\n",
       "    <tr>\n",
       "      <th>2380</th>\n",
       "      <td>@oreillyfactor</td>\n",
       "      <td>73</td>\n",
       "    </tr>\n",
       "    <tr>\n",
       "      <th>2373</th>\n",
       "      <td>@nytimes</td>\n",
       "      <td>65</td>\n",
       "    </tr>\n",
       "  </tbody>\n",
       "</table>\n",
       "</div>"
      ],
      "text/plain": [
       "                  word  freq\n",
       "2437  @realDonaldTrump  1513\n",
       "509   @FoxNews          272 \n",
       "242   @CNN              231 \n",
       "2289  @megynkelly       107 \n",
       "1960  @foxandfriends    100 \n",
       "365   @DanScavino       90  \n",
       "2523  @seanhannity      78  \n",
       "693   @JebBush          74  \n",
       "2380  @oreillyfactor    73  \n",
       "2373  @nytimes          65  "
      ]
     },
     "execution_count": 7,
     "metadata": {},
     "output_type": "execute_result"
    }
   ],
   "source": [
    "at_list = tweets.Tweet_Text.apply(lambda x: re.findall('@[a-zA-Z0-9_]+', x))\n",
    "\n",
    "at_df = at_list.explode().to_frame().reset_index()\n",
    "\n",
    "at_freq = at_df.groupby('Tweet_Text', as_index=False).agg({'index':'count'})\n",
    "at_freq.columns = ['word', 'freq']\n",
    "at_freq.sort_values(by='freq', ascending=False).head(10)"
   ]
  },
  {
   "cell_type": "markdown",
   "metadata": {
    "id": "JBS_zdusCChF"
   },
   "source": [
    "#### **Task 5.5:** Plot the top 20 frequent words in Trump's tweets (excluding the words from *stopwords.txt*)\n",
    "- Hint: use pattern '((https?://)+(\\[\\w\\d:#@%/;$()~_?+-=\\\\.&\\](#!)?)*)' to match url\n",
    "- Hint: there are some special HTML charcter codes such as &amp;amp; (ampersanbd), &amp;gt; (greater than)\n",
    "- Hint: the order when removing non-bword sequences: escape sequence -> html character code -> url -> hashtag/mention -> digit and punctuation"
   ]
  },
  {
   "cell_type": "code",
   "execution_count": 8,
   "metadata": {},
   "outputs": [
    {
     "data": {
      "text/html": [
       "<div>\n",
       "<style scoped>\n",
       "    .dataframe tbody tr th:only-of-type {\n",
       "        vertical-align: middle;\n",
       "    }\n",
       "\n",
       "    .dataframe tbody tr th {\n",
       "        vertical-align: top;\n",
       "    }\n",
       "\n",
       "    .dataframe thead th {\n",
       "        text-align: right;\n",
       "    }\n",
       "</style>\n",
       "<table border=\"1\" class=\"dataframe\">\n",
       "  <thead>\n",
       "    <tr style=\"text-align: right;\">\n",
       "      <th></th>\n",
       "      <th>index</th>\n",
       "    </tr>\n",
       "    <tr>\n",
       "      <th>Tweet_Text</th>\n",
       "      <th></th>\n",
       "    </tr>\n",
       "  </thead>\n",
       "  <tbody>\n",
       "    <tr>\n",
       "      <th>&amp;amp;</th>\n",
       "      <td>627</td>\n",
       "    </tr>\n",
       "    <tr>\n",
       "      <th>&amp;gt;</th>\n",
       "      <td>9</td>\n",
       "    </tr>\n",
       "  </tbody>\n",
       "</table>\n",
       "</div>"
      ],
      "text/plain": [
       "            index\n",
       "Tweet_Text       \n",
       "&amp;       627  \n",
       "&gt;        9    "
      ]
     },
     "execution_count": 8,
     "metadata": {},
     "output_type": "execute_result"
    }
   ],
   "source": [
    "# To check how many tweet text contains special HTML characters codes\n",
    "#tweets.Tweet_Text[tweets.Tweet_Text.apply(lambda x: re.search('(&\\w+;)', x)).dropna().index]\n",
    "\n",
    "charcodes = tweets.Tweet_Text.apply(lambda x: re.findall('(&\\w+;)', x)).explode().dropna()\n",
    "charcodes.to_frame().reset_index().groupby('Tweet_Text').count()"
   ]
  },
  {
   "cell_type": "code",
   "execution_count": 9,
   "metadata": {
    "id": "8RrTK045eEik"
   },
   "outputs": [],
   "source": [
    "import string\n",
    "stop_words = pd.read_csv('stopwords.txt', header=None, names=['stopwords'])\n",
    "#stop_words"
   ]
  },
  {
   "cell_type": "code",
   "execution_count": 10,
   "metadata": {},
   "outputs": [
    {
     "data": {
      "text/html": [
       "<div>\n",
       "<style scoped>\n",
       "    .dataframe tbody tr th:only-of-type {\n",
       "        vertical-align: middle;\n",
       "    }\n",
       "\n",
       "    .dataframe tbody tr th {\n",
       "        vertical-align: top;\n",
       "    }\n",
       "\n",
       "    .dataframe thead th {\n",
       "        text-align: right;\n",
       "    }\n",
       "</style>\n",
       "<table border=\"1\" class=\"dataframe\">\n",
       "  <thead>\n",
       "    <tr style=\"text-align: right;\">\n",
       "      <th></th>\n",
       "      <th>word</th>\n",
       "      <th>freq</th>\n",
       "    </tr>\n",
       "  </thead>\n",
       "  <tbody>\n",
       "    <tr>\n",
       "      <th>7889</th>\n",
       "      <td>trump</td>\n",
       "      <td>1137</td>\n",
       "    </tr>\n",
       "    <tr>\n",
       "      <th>3349</th>\n",
       "      <td>hillary</td>\n",
       "      <td>531</td>\n",
       "    </tr>\n",
       "    <tr>\n",
       "      <th>259</th>\n",
       "      <td>america</td>\n",
       "      <td>479</td>\n",
       "    </tr>\n",
       "    <tr>\n",
       "      <th>6277</th>\n",
       "      <td>rt</td>\n",
       "      <td>446</td>\n",
       "    </tr>\n",
       "    <tr>\n",
       "      <th>5330</th>\n",
       "      <td>people</td>\n",
       "      <td>441</td>\n",
       "    </tr>\n",
       "    <tr>\n",
       "      <th>5512</th>\n",
       "      <td>poll</td>\n",
       "      <td>350</td>\n",
       "    </tr>\n",
       "    <tr>\n",
       "      <th>2126</th>\n",
       "      <td>donald</td>\n",
       "      <td>321</td>\n",
       "    </tr>\n",
       "    <tr>\n",
       "      <th>1323</th>\n",
       "      <td>clinton</td>\n",
       "      <td>308</td>\n",
       "    </tr>\n",
       "    <tr>\n",
       "      <th>5613</th>\n",
       "      <td>president</td>\n",
       "      <td>265</td>\n",
       "    </tr>\n",
       "    <tr>\n",
       "      <th>8238</th>\n",
       "      <td>vote</td>\n",
       "      <td>253</td>\n",
       "    </tr>\n",
       "    <tr>\n",
       "      <th>7765</th>\n",
       "      <td>tonight</td>\n",
       "      <td>242</td>\n",
       "    </tr>\n",
       "    <tr>\n",
       "      <th>7724</th>\n",
       "      <td>time</td>\n",
       "      <td>225</td>\n",
       "    </tr>\n",
       "    <tr>\n",
       "      <th>1697</th>\n",
       "      <td>crooked</td>\n",
       "      <td>223</td>\n",
       "    </tr>\n",
       "    <tr>\n",
       "      <th>1718</th>\n",
       "      <td>cruz</td>\n",
       "      <td>222</td>\n",
       "    </tr>\n",
       "    <tr>\n",
       "      <th>1809</th>\n",
       "      <td>debate</td>\n",
       "      <td>209</td>\n",
       "    </tr>\n",
       "    <tr>\n",
       "      <th>5470</th>\n",
       "      <td>pm</td>\n",
       "      <td>199</td>\n",
       "    </tr>\n",
       "    <tr>\n",
       "      <th>1613</th>\n",
       "      <td>country</td>\n",
       "      <td>197</td>\n",
       "    </tr>\n",
       "    <tr>\n",
       "      <th>3873</th>\n",
       "      <td>join</td>\n",
       "      <td>187</td>\n",
       "    </tr>\n",
       "    <tr>\n",
       "      <th>8452</th>\n",
       "      <td>win</td>\n",
       "      <td>173</td>\n",
       "    </tr>\n",
       "    <tr>\n",
       "      <th>3754</th>\n",
       "      <td>iowa</td>\n",
       "      <td>172</td>\n",
       "    </tr>\n",
       "  </tbody>\n",
       "</table>\n",
       "</div>"
      ],
      "text/plain": [
       "           word  freq\n",
       "7889  trump      1137\n",
       "3349  hillary    531 \n",
       "259   america    479 \n",
       "6277  rt         446 \n",
       "5330  people     441 \n",
       "5512  poll       350 \n",
       "2126  donald     321 \n",
       "1323  clinton    308 \n",
       "5613  president  265 \n",
       "8238  vote       253 \n",
       "7765  tonight    242 \n",
       "7724  time       225 \n",
       "1697  crooked    223 \n",
       "1718  cruz       222 \n",
       "1809  debate     209 \n",
       "5470  pm         199 \n",
       "1613  country    197 \n",
       "3873  join       187 \n",
       "8452  win        173 \n",
       "3754  iowa       172 "
      ]
     },
     "execution_count": 10,
     "metadata": {},
     "output_type": "execute_result"
    }
   ],
   "source": [
    "#pattern escape\n",
    "esc = '\\n'\n",
    "\n",
    "#html\n",
    "html = '(&\\w+;)'\n",
    "\n",
    "#url\n",
    "url = '((https?://)+([\\da-z\\.-]+)\\.([a-z\\.]{2,6})([/\\w \\.-]*)*/?)'\n",
    "\n",
    "#hashtag and mention\n",
    "ht = '(#[a-zA-Z0-9_]+)'\n",
    "mention= '(@[a-zA-Z0-9_]+)'\n",
    "\n",
    "#punctuation\n",
    "#string.punctuation\n",
    "remove_chars = '[0-9' + string.punctuation + ']+'\n",
    "\n",
    "words_list=[]\n",
    "\n",
    "for i in range(len(text_list)):\n",
    "    no_esc = re.sub(esc, '', text_list[i])\n",
    "    no_html = re.sub(html, '', no_esc)\n",
    "    no_url = re.sub(url, '', no_html)\n",
    "    no_ht = re.sub(ht, '', no_url)\n",
    "    no_mention = re.sub(mention, '', no_ht)\n",
    "    no_chars = re.sub(remove_chars, '', no_mention)\n",
    "    words_list.append(no_chars)\n",
    "    \n",
    "tweets['Words_List'] = words_list\n",
    "\n",
    "\n",
    "clean_list = tweets.Words_List.apply(lambda x: x.split())\n",
    "words_df = clean_list.explode().to_frame().reset_index()\n",
    "\n",
    "#Lower Case\n",
    "words_df.Words_List = words_df.Words_List.str.lower()\n",
    "#words_df\n",
    "\n",
    "words_freq = words_df.groupby('Words_List', as_index=False).agg({'index':'count'})\n",
    "words_freq.columns = ['word', 'freq']\n",
    "words_freq = words_freq.sort_values(by='freq', ascending=False)\n",
    "#words_freq\n",
    "\n",
    "#StopWords\n",
    "clean_words = words_freq.loc[words_freq.word.isin(stop_words.stopwords)==False, :]\n",
    "#clean_words\n",
    "\n",
    "\n",
    "top20 = clean_words.sort_values(by='freq', ascending=False).head(20)\n",
    "top20"
   ]
  },
  {
   "cell_type": "code",
   "execution_count": 11,
   "metadata": {},
   "outputs": [
    {
     "data": {
      "text/plain": [
       "<BarContainer object of 20 artists>"
      ]
     },
     "execution_count": 11,
     "metadata": {},
     "output_type": "execute_result"
    },
    {
     "data": {
      "image/png": "[encoded data removed]",
      "text/plain": [
       "<Figure size 576x432 with 1 Axes>"
      ]
     },
     "metadata": {
      "needs_background": "light"
     },
     "output_type": "display_data"
    }
   ],
   "source": [
    "import matplotlib.pyplot as plt\n",
    "\n",
    "fig, ax = plt.subplots(figsize=(8, 6))\n",
    "\n",
    "ax.barh(top20.word[::-1], width=top20.freq[::-1])"
   ]
  },
  {
   "cell_type": "code",
   "execution_count": null,
   "metadata": {},
   "outputs": [],
   "source": []
  }
 ],
 "metadata": {
  "colab": {
   "collapsed_sections": [],
   "name": "isom5160_exe05_tweets_done.ipynb",
   "provenance": []
  },
  "kernelspec": {
   "display_name": "Python 3",
   "language": "python",
   "name": "python3"
  },
  "language_info": {
   "codemirror_mode": {
    "name": "ipython",
    "version": 3
   },
   "file_extension": ".py",
   "mimetype": "text/x-python",
   "name": "python",
   "nbconvert_exporter": "python",
   "pygments_lexer": "ipython3",
   "version": "3.8.3"
  }
 },
 "nbformat": 4,
 "nbformat_minor": 1
}
